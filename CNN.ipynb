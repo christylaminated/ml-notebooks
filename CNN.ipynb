{
 "cells": [
  {
   "cell_type": "markdown",
   "metadata": {
    "id": "cHHC014Ciq0N"
   },
   "source": [
    "# Convolutional Neural Network (CNN) Implementation [100 points]"
   ]
  },
  {
   "cell_type": "code",
   "execution_count": 1,
   "metadata": {
    "id": "fzGxI-Os8ykK"
   },
   "outputs": [],
   "source": [
    "# Import necessary libraries\n",
    "import torch\n",
    "import torch.nn as nn\n",
    "import torch.optim as optim\n",
    "from torch.utils.data import DataLoader\n",
    "import torchvision\n",
    "import torchvision.transforms as transforms\n",
    "import matplotlib.pyplot as plt\n",
    "import numpy as np"
   ]
  },
  {
   "cell_type": "markdown",
   "metadata": {
    "id": "y-nUN9sPjXtq"
   },
   "source": [
    "## 1. Load and preprocess the data\n",
    "\n",
    "Load the training and test datasets, and preprocess the data by converting it to tensors and normalizing it."
   ]
  },
  {
   "cell_type": "code",
   "execution_count": 2,
   "metadata": {
    "id": "mv0CFEei89RK"
   },
   "outputs": [],
   "source": [
    "def load_and_preprocess_data(batch_size=32):\n",
    "    \"\"\"\n",
    "    Load the CIFAR-10 dataset and preprocess it by:\n",
    "    - Converting images to tensors\n",
    "    - Normalizing the data\n",
    "\n",
    "    Args:\n",
    "        batch_size (int): The batch size for training and testing.\n",
    "\n",
    "    Returns:\n",
    "        trainloader (DataLoader): DataLoader for the training dataset.\n",
    "        testloader (DataLoader): DataLoader for the testing dataset.\n",
    "    \"\"\"\n",
    "    # Define transformations for data augmentation and normalization\n",
    "    transform_train = transforms.Compose([\n",
    "        transforms.RandomHorizontalFlip(),           # Randomly flip images horizontally\n",
    "        transforms.RandomCrop(32, padding=4),        # Randomly crop images with padding\n",
    "        transforms.ToTensor(),                       # Convert images to tensors\n",
    "        transforms.Normalize((0.4914, 0.4822, 0.4465), (0.2470, 0.2435, 0.2616))  # Normalize with CIFAR-10 mean/std\n",
    "    ])\n",
    "\n",
    "    transform_test = transforms.Compose([\n",
    "        transforms.ToTensor(),                       # Convert images to tensors\n",
    "        transforms.Normalize((0.4914, 0.4822, 0.4465), (0.2470, 0.2435, 0.2616))  # Normalize with CIFAR-10 mean/std\n",
    "    ])\n",
    "\n",
    "    # Load CIFAR-10 datasets\n",
    "    train_dataset = torchvision.datasets.CIFAR10(root='./data', train=True, download=True, transform=transform_train)\n",
    "    test_dataset = torchvision.datasets.CIFAR10(root='./data', train=False, download=True, transform=transform_test)\n",
    "\n",
    "    # Create DataLoaders\n",
    "    trainloader = DataLoader(train_dataset, batch_size=batch_size, shuffle=True, num_workers=2)\n",
    "    testloader = DataLoader(test_dataset, batch_size=batch_size, shuffle=False, num_workers=2)\n",
    "\n",
    "\n",
    "\n",
    "    return trainloader, testloader"
   ]
  },
  {
   "cell_type": "markdown",
   "metadata": {
    "id": "Mgip5xHikwJC"
   },
   "source": [
    "## 2. Split the data into training, validation, and test sets\n",
    "Visualize a subset of the training dataset to get an understanding of what the data looks like."
   ]
  },
  {
   "cell_type": "code",
   "execution_count": 3,
   "metadata": {
    "id": "LMUvt5Yf9RtG"
   },
   "outputs": [],
   "source": [
    "def visualize_data(trainloader, num_images=6):\n",
    "    \"\"\"\n",
    "    Visualize a subset of images from the training dataset.\n",
    "\n",
    "    Args:\n",
    "        trainloader (DataLoader): The DataLoader object for the training dataset.\n",
    "        num_images (int): The number of images to visualize.\n",
    "\n",
    "    Returns:\n",
    "        None\n",
    "    \"\"\"\n",
    "    # Implement your code\n",
    "    # Get a batch of data from the DataLoader\n",
    "    data_iter = iter(trainloader)\n",
    "    images, labels = next(data_iter)\n",
    "\n",
    "    # Define class labels (CIFAR-10)\n",
    "    classes = [\n",
    "        'airplane', 'automobile', 'bird', 'cat',\n",
    "        'deer', 'dog', 'frog', 'horse', 'ship', 'truck'\n",
    "    ]\n",
    "\n",
    "    # Select the number of images to visualize\n",
    "    images_to_show = images[:num_images]\n",
    "    labels_to_show = labels[:num_images]\n",
    "\n",
    "    # Unnormalize the images for visualization\n",
    "    images_to_show = images_to_show / 2 + 0.5  # Reverse normalization: (x - mean) / std -> x * std + mean\n",
    "\n",
    "    # Plot the images\n",
    "    fig, axes = plt.subplots(1, num_images, figsize=(12, 4))\n",
    "    for idx, ax in enumerate(axes):\n",
    "        np_image = np.transpose(images_to_show[idx].numpy(), (1, 2, 0))  # Convert to (H, W, C) for plt.imshow\n",
    "        ax.imshow(np_image)\n",
    "        ax.set_title(classes[labels_to_show[idx]])\n",
    "        ax.axis('off')\n",
    "\n",
    "    plt.show()\n"
   ]
  },
  {
   "cell_type": "markdown",
   "metadata": {
    "id": "wF4rYTn2i7S3"
   },
   "source": [
    "## 3. Define the CNN class\n",
    "**Implement the CNN model architecture using PyTorch, ensuring it aligns with the following design:**\n",
    "\n",
    "#### Layer 1\n",
    "* 3 x 3 conv. 96 ReLU (Input 32 x 32 RGB image, dropout = 0.2)\n",
    "* 3 x 3 conv. 96 ReLU\n",
    "---------------\n",
    "#### Replace max pooling with CNN\n",
    "* 3 x 3 conv. 96 ReLU, stride r = 2, dropout = 0.5\n",
    "--------------\n",
    "#### Layer 2\n",
    "* 3 x 3 conv. 192 ReLU\n",
    "* 3 x 3 conv. 192 ReLU\n",
    "--------------\n",
    "#### Replace max pooling with CNN\n",
    "* 3 x 3 conv. 192, stride r = 2, dropout = 0.5\n",
    "--------------\n",
    "#### Layer 3\n",
    "* 3 x 3 conv. 192 ReLU\n",
    "-------------\n",
    "#### Layer 4\n",
    "* 1 x 1 conv. 192 ReLU\n",
    "--------------\n",
    "#### Layer 5\n",
    "* 1 x 1 conv. 10 ReLU\n",
    "--------------\n",
    "#### Global averaging\n",
    "-------------\n",
    "#### Output layer\n",
    "* 10 or 100-way softmax"
   ]
  },
  {
   "cell_type": "code",
   "execution_count": 4,
   "metadata": {
    "id": "vNegakie9xoF"
   },
   "outputs": [],
   "source": [
    "class CNNModel(nn.Module):\n",
    "    \"\"\"\n",
    "    Define a simple CNN model architecture for CIFAR-10 classification.\n",
    "    \"\"\"\n",
    "    def __init__(self):\n",
    "        super(CNNModel, self).__init__()\n",
    "        num_classes=10\n",
    "        # Implement your code\n",
    "        # Layer 1: 3x3 conv with 96 filters, ReLU, dropout\n",
    "        self.layer1 = nn.Sequential(\n",
    "            nn.Conv2d(3, 96, kernel_size=3, stride=1, padding=1),\n",
    "            nn.ReLU(),\n",
    "            nn.Dropout(0.2),\n",
    "            nn.Conv2d(96, 96, kernel_size=3, stride=1, padding=1),\n",
    "            nn.ReLU()\n",
    "        )\n",
    "\n",
    "        # Replace max pooling with CNN (stride=2)\n",
    "        self.layer1_pooling = nn.Sequential(\n",
    "            nn.Conv2d(96, 96, kernel_size=3, stride=2, padding=1),\n",
    "            nn.ReLU(),\n",
    "            nn.Dropout(0.5)\n",
    "        )\n",
    "        \n",
    "        # Layer 2: 3x3 conv with 192 filters, ReLU\n",
    "        self.layer2 = nn.Sequential(\n",
    "            nn.Conv2d(96, 192, kernel_size=3, stride=1, padding=1),\n",
    "            nn.ReLU(),\n",
    "            nn.Conv2d(192, 192, kernel_size=3, stride=1, padding=1),\n",
    "            nn.ReLU()\n",
    "        )\n",
    "\n",
    "        # Replace max pooling with CNN (stride=2)\n",
    "        self.layer2_pooling = nn.Sequential(\n",
    "            nn.Conv2d(192, 192, kernel_size=3, stride=2, padding=1),\n",
    "            nn.ReLU(),\n",
    "            nn.Dropout(0.5)\n",
    "        )\n",
    "        \n",
    "        # Layer 3: 3x3 conv with 192 filters, ReLU\n",
    "        self.layer3 = nn.Sequential(\n",
    "            nn.Conv2d(192, 192, kernel_size=3, stride=1, padding=1),\n",
    "            nn.ReLU()\n",
    "        )\n",
    "        \n",
    "        # Layer 4: 1x1 conv with 192 filters, ReLU\n",
    "        self.layer4 = nn.Sequential(\n",
    "            nn.Conv2d(192, 192, kernel_size=1, stride=1),\n",
    "            nn.ReLU()\n",
    "        )\n",
    "        \n",
    "        # Layer 5: 1x1 conv with 10 filters, ReLU\n",
    "        self.layer5 = nn.Sequential(\n",
    "            nn.Conv2d(192, num_classes, kernel_size=1, stride=1),\n",
    "            nn.ReLU()\n",
    "        )\n",
    "        \n",
    "        # Global Average Pooling\n",
    "        self.global_avg_pool = nn.AdaptiveAvgPool2d((1, 1))\n",
    "        \n",
    "        # Output Layer: Softmax is applied during loss computation\n",
    "        self.flatten = nn.Flatten()\n",
    "\n",
    "\n",
    "    def forward(self, x):\n",
    "        # Implement your code\n",
    "         # Pass through layers\n",
    "        x = self.layer1(x)\n",
    "        x = self.layer1_pooling(x)\n",
    "        x = self.layer2(x)\n",
    "        x = self.layer2_pooling(x)\n",
    "        x = self.layer3(x)\n",
    "        x = self.layer4(x)\n",
    "        x = self.layer5(x)\n",
    "        \n",
    "        # Global average pooling\n",
    "        x = self.global_avg_pool(x)\n",
    "        \n",
    "        # Flatten for fully connected output\n",
    "        x = self.flatten(x)\n",
    "        \n",
    "        return x\n",
    "        # Convolutional layers and fully connected layers\n",
    "        # Define the forward pass through the model\n"
   ]
  },
  {
   "cell_type": "markdown",
   "metadata": {
    "id": "qmPmKfQb1RsT"
   },
   "source": [
    "## Train the model and track the training process\n",
    "Train the model on the training set, while monitoring and logging training loss and accuracy throughout the epochs."
   ]
  },
  {
   "cell_type": "code",
   "execution_count": 5,
   "metadata": {
    "id": "_4ZNZST-98yN"
   },
   "outputs": [],
   "source": [
    "def train_model(model, trainloader, criterion, optimizer, device, epochs=10):\n",
    "    \"\"\"\n",
    "    Train the CNN model.\n",
    "\n",
    "    Args:\n",
    "        model (nn.Module): The CNN model to train.\n",
    "        trainloader (DataLoader): DataLoader for the training dataset.\n",
    "        criterion (nn.Module): The loss function.\n",
    "        optimizer (optim.Optimizer): The optimizer.\n",
    "        epochs (int): Number of epochs to train.\n",
    "\n",
    "    Returns:\n",
    "        train_losses (list): List of training losses for each epoch.\n",
    "        train_accuracies (list): List of training accuracies for each epoch.\n",
    "    \"\"\"\n",
    "    # Implement your code\n",
    "    # Move model to the specified device\n",
    "    model.to(device)\n",
    "    \n",
    "    # Initialize lists to store loss and accuracy\n",
    "    train_losses = []\n",
    "    train_accuracies = []\n",
    "\n",
    "    for epoch in range(epochs):\n",
    "        model.train()  # Set the model to training mode\n",
    "        running_loss = 0.0\n",
    "        correct = 0\n",
    "        total = 0\n",
    "\n",
    "        for inputs, labels in trainloader:\n",
    "            # Move inputs and labels to the specified device\n",
    "            inputs, labels = inputs.to(device), labels.to(device)\n",
    "\n",
    "            # Zero the parameter gradients\n",
    "            optimizer.zero_grad()\n",
    "\n",
    "            # Forward pass\n",
    "            outputs = model(inputs)\n",
    "            loss = criterion(outputs, labels)\n",
    "\n",
    "            # Backward pass and optimization\n",
    "            loss.backward()\n",
    "            optimizer.step()\n",
    "\n",
    "            # Update loss\n",
    "            running_loss += loss.item()\n",
    "\n",
    "            # Update accuracy\n",
    "            _, predicted = outputs.max(1)  # Get predictions\n",
    "            total += labels.size(0)\n",
    "            correct += (predicted == labels).sum().item()\n",
    "\n",
    "        # Calculate average loss and accuracy for the epoch\n",
    "        epoch_loss = running_loss / len(trainloader)\n",
    "        epoch_accuracy = 100.0 * correct / total\n",
    "\n",
    "        train_losses.append(epoch_loss)\n",
    "        train_accuracies.append(epoch_accuracy)\n",
    "\n",
    "        # Print progress\n",
    "        print(f\"Epoch {epoch + 1}/{epochs}, Loss: {epoch_loss:.4f}, Accuracy: {epoch_accuracy:.2f}%\")\n",
    "\n",
    "    return train_losses, train_accuracies\n"
   ]
  },
  {
   "cell_type": "markdown",
   "metadata": {
    "id": "DIAtyp6G1gEo"
   },
   "source": [
    "## Evaluate the model and visualize model predictions\n",
    "Evaluate the model on the test set to compute the accuracy and loss. Visualize predictions on a subset of the test set, showing the predicted labels and whether they are correct or incorrect."
   ]
  },
  {
   "cell_type": "code",
   "execution_count": 6,
   "metadata": {
    "id": "178o1d8I-kJ6"
   },
   "outputs": [],
   "source": [
    "def evaluate_model(model, testloader, device):\n",
    "    \"\"\"\n",
    "    Evaluate the CNN model on the test dataset.\n",
    "\n",
    "    Args:\n",
    "        model (nn.Module): The trained CNN model.\n",
    "        testloader (DataLoader): DataLoader for the test dataset.\n",
    "\n",
    "    Returns:\n",
    "        accuracy (float): Test accuracy of the model.\n",
    "        loss (float): Test loss of the model.\n",
    "    \"\"\"\n",
    "    # Implement your code\n",
    "\n",
    "    # Move the model to the specified device\n",
    "    model.to(device)\n",
    "    \n",
    "    # Set the model to evaluation mode\n",
    "    model.eval()\n",
    "    \n",
    "    # Initialize metrics\n",
    "    total_loss = 0.0\n",
    "    correct = 0\n",
    "    total = 0\n",
    "    \n",
    "    # Define the loss function (same as used during training)\n",
    "    criterion = nn.CrossEntropyLoss()\n",
    "    \n",
    "    with torch.no_grad():  # Disable gradient computation for evaluation\n",
    "        for inputs, labels in testloader:\n",
    "            # Move inputs and labels to the specified device\n",
    "            inputs, labels = inputs.to(device), labels.to(device)\n",
    "            \n",
    "            # Forward pass\n",
    "            outputs = model(inputs)\n",
    "            loss = criterion(outputs, labels)\n",
    "            \n",
    "            # Update loss\n",
    "            total_loss += loss.item()\n",
    "            \n",
    "            # Calculate accuracy\n",
    "            _, predicted = outputs.max(1)  # Get class with highest probability\n",
    "            total += labels.size(0)\n",
    "            correct += (predicted == labels).sum().item()\n",
    "    \n",
    "    # Compute average loss and accuracy\n",
    "    loss = total_loss / len(testloader)\n",
    "    accuracy = 100.0 * correct / total\n",
    "\n",
    "    print(f\"Test Loss: {loss:.4f}, Test Accuracy: {accuracy:.2f}%\")\n",
    "    \n",
    "    return accuracy, loss\n"
   ]
  },
  {
   "cell_type": "code",
   "execution_count": 7,
   "metadata": {
    "id": "zjCXZbcH-rO2"
   },
   "outputs": [],
   "source": [
    "# Visualize model predictions\n",
    "def visualize_predictions(model, testloader, device):\n",
    "    \"\"\"\n",
    "    Visualize model predictions on a subset of the test dataset.\n",
    "\n",
    "    Args:\n",
    "        model (nn.Module): The trained CNN model.\n",
    "        testloader (DataLoader): DataLoader for the test dataset.\n",
    "\n",
    "    Returns:\n",
    "        None\n",
    "    \"\"\"\n",
    "    # Implement your code\n",
    "    # Move model to the specified device\n",
    "    model.to(device)\n",
    "    model.eval()\n",
    "    \n",
    "    data_iter = iter(testloader)\n",
    "    images, labels = next(data_iter)\n",
    "    images, labels = images.to(device), labels.to(device)\n",
    "\n",
    "    with torch.no_grad():\n",
    "        outputs = model(images)\n",
    "        _, predicted = outputs.max(1)\n",
    "\n",
    "    # Display a subset of images\n",
    "    images = images[:num_images]\n",
    "    labels = labels[:num_images]\n",
    "    predicted = predicted[:num_images]\n",
    "\n",
    "    # Plot the images\n",
    "    plt.figure(figsize=(12, 4))\n",
    "    for idx in range(num_images):\n",
    "        plt.subplot(1, num_images, idx + 1)\n",
    "        \n",
    "        # Unnormalize and prepare for display\n",
    "        img = unnormalize(images[idx].cpu())\n",
    "        img = img.permute(1, 2, 0).numpy()  # Convert to HWC format\n",
    "        \n",
    "        plt.imshow(img)\n",
    "        color = \"green\" if predicted[idx] == labels[idx] else \"red\"\n",
    "        plt.title(f\"Pred: {predicted[idx].item()}\\nTrue: {labels[idx].item()}\", color=color)\n",
    "        plt.axis(\"off\")\n",
    "    plt.show()\n",
    "\n",
    "    \n",
    "    # Unnormalize the images for display\n",
    "    def unnormalize(img):\n",
    "        mean = [0.4914, 0.4822, 0.4465]\n",
    "        std = [0.2470, 0.2435, 0.2616]\n",
    "    \n",
    "        # Reverse normalization\n",
    "        img = img * torch.tensor(std).view(3, 1, 1) + torch.tensor(mean).view(3, 1, 1)\n",
    "    \n",
    "        # Clip values to [0, 1] range for imshow compatibility\n",
    "        img = torch.clamp(img, 0, 1)\n",
    "    \n",
    "        return img"
   ]
  },
  {
   "cell_type": "markdown",
   "metadata": {
    "id": "2pqUIhg1-_Cu"
   },
   "source": [
    "## Test your code"
   ]
  },
  {
   "cell_type": "code",
   "execution_count": null,
   "metadata": {
    "id": "12Bv-oTW_CDQ"
   },
   "outputs": [
    {
     "name": "stdout",
     "output_type": "stream",
     "text": [
      "Files already downloaded and verified\n",
      "Files already downloaded and verified\n"
     ]
    },
    {
     "name": "stderr",
     "output_type": "stream",
     "text": [
      "Clipping input data to the valid range for imshow with RGB data ([0..1] for floats or [0..255] for integers).\n",
      "Clipping input data to the valid range for imshow with RGB data ([0..1] for floats or [0..255] for integers).\n",
      "Clipping input data to the valid range for imshow with RGB data ([0..1] for floats or [0..255] for integers).\n",
      "Clipping input data to the valid range for imshow with RGB data ([0..1] for floats or [0..255] for integers).\n",
      "Clipping input data to the valid range for imshow with RGB data ([0..1] for floats or [0..255] for integers).\n",
      "Clipping input data to the valid range for imshow with RGB data ([0..1] for floats or [0..255] for integers).\n"
     ]
    },
    {
     "data": {
      "image/png": "[encoded data removed]",
      "text/plain": [
       "<Figure size 1200x400 with 6 Axes>"
      ]
     },
     "metadata": {},
     "output_type": "display_data"
    },
    {
     "name": "stdout",
     "output_type": "stream",
     "text": [
      "Epoch 1/10, Loss: 2.3027, Accuracy: 10.02%\n",
      "Epoch 2/10, Loss: 2.3026, Accuracy: 10.00%\n",
      "Epoch 3/10, Loss: 2.3026, Accuracy: 10.00%\n",
      "Epoch 4/10, Loss: 2.3026, Accuracy: 10.00%\n",
      "Epoch 5/10, Loss: 2.3026, Accuracy: 10.00%\n"
     ]
    }
   ],
   "source": [
    "\n",
    "# Main function to validate the final result\n",
    "def main():\n",
    "    # Hyperparameters\n",
    "    batch_size = 32              # Batch size for training\n",
    "    learning_rate = 0.001        # Learning rate for optimizer\n",
    "    epochs = 10                  # Number of training epochs\n",
    "    weight_decay = 1e-5          # Weight decay (L2 regularization) to prevent overfitting\n",
    "\n",
    "    # Check if GPU is available and use it\n",
    "    device = torch.device('cuda' if torch.cuda.is_available() else 'cpu')\n",
    "\n",
    "    # Load data\n",
    "    trainloader, testloader = load_and_preprocess_data(batch_size)\n",
    "\n",
    "    # Visualize a subset of the data\n",
    "    visualize_data(trainloader)\n",
    "\n",
    "    # Initialize model, loss function, and optimizer\n",
    "    model = CNNModel().to(device)\n",
    "    criterion = nn.CrossEntropyLoss()\n",
    "    optimizer = optim.Adam(model.parameters(), lr=learning_rate)\n",
    "\n",
    "    # Train the model\n",
    "    train_losses, train_accuracies = train_model(model, trainloader, criterion, optimizer, device, epochs=epochs)\n",
    "\n",
    "    # Evaluate the model\n",
    "    test_accuracy, test_loss = evaluate_model(model, testloader)\n",
    "\n",
    "    # Visualize predictions\n",
    "    visualize_predictions(model, testloader)\n",
    "\n",
    "\n",
    "# Run the main function to validate the result\n",
    "if __name__ == '__main__':\n",
    "    main()"
   ]
  },
  {
   "cell_type": "markdown",
   "metadata": {
    "id": "6ka4cFcwi-u6"
   },
   "source": [
    "## Reference\n",
    "[1] Springenberg, Jost Tobias, et al. \"Striving for simplicity: The all convolutional net.\" arXiv preprint arXiv:1412.6806 (2014)."
   ]
  },
  {
   "cell_type": "code",
   "execution_count": null,
   "metadata": {
    "id": "MouvkR1l_-o1"
   },
   "outputs": [],
   "source": []
  }
 ],
 "metadata": {
  "colab": {
   "provenance": [],
   "toc_visible": true
  },
  "kernelspec": {
   "display_name": "Python 3 (ipykernel)",
   "language": "python",
   "name": "python3"
  },
  "language_info": {
   "codemirror_mode": {
    "name": "ipython",
    "version": 3
   },
   "file_extension": ".py",
   "mimetype": "text/x-python",
   "name": "python",
   "nbconvert_exporter": "python",
   "pygments_lexer": "ipython3",
   "version": "3.11.7"
  }
 },
 "nbformat": 4,
 "nbformat_minor": 4
}
